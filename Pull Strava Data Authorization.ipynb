{
 "cells": [
  {
   "cell_type": "code",
   "execution_count": 13,
   "metadata": {},
   "outputs": [],
   "source": [
    "from stravalib.client import Client\n",
    "client=Client()\n",
    "\n",
    "CLIENT_ID = '57755'\n",
    "CLIENT_SECRET = '43f7beec9947a8589078e054a9c4cce465d1c870'\n",
    "REDIRECT_URL = 'http://localhost:8000/authorized'"
   ]
  },
  {
   "cell_type": "code",
   "execution_count": 15,
   "metadata": {},
   "outputs": [
    {
     "data": {
      "text/plain": [
       "'https://www.strava.com/oauth/authorize?client_id=57755&redirect_uri=http%3A%2F%2F127.0.0.1%3A5000%2Fauthorization&approval_prompt=auto&response_type=code&scope=read_all%2Cprofile%3Aread_all%2Cactivity%3Aread_all'"
      ]
     },
     "execution_count": 15,
     "metadata": {},
     "output_type": "execute_result"
    }
   ],
   "source": [
    "url = client.authorization_url(\n",
    "    client_id=CLIENT_ID, redirect_uri='http://127.0.0.1:5000/authorization', \n",
    "    scope=['read_all','profile:read_all','activity:read_all']\n",
    ")\n",
    "url"
   ]
  },
  {
   "cell_type": "code",
   "execution_count": 16,
   "metadata": {},
   "outputs": [],
   "source": [
    "import pickle\n",
    "\n",
    "CODE = '627ecb623dc4423190462c8acf539e53b5488b9e'\n",
    "\n",
    "access_token = client.exchange_code_for_token(client_id=CLIENT_ID, client_secret=CLIENT_SECRET, code=CODE)\n",
    "with open('../access_token.pickle', 'wb') as f:\n",
    "    pickle.dump(access_token, f)"
   ]
  },
  {
   "cell_type": "code",
   "execution_count": 17,
   "metadata": {},
   "outputs": [
    {
     "name": "stdout",
     "output_type": "stream",
     "text": [
      "Latest access token read from file:\n"
     ]
    },
    {
     "data": {
      "text/plain": [
       "{'access_token': '65efb19abfd2c7baa9782447fde3d6b17cceaf88',\n",
       " 'refresh_token': '742610f225e2f1bac22d721795390e7ef9ed1df6',\n",
       " 'expires_at': 1607388883}"
      ]
     },
     "execution_count": 17,
     "metadata": {},
     "output_type": "execute_result"
    }
   ],
   "source": [
    "with open('../access_token.pickle', 'rb') as f:\n",
    "    access_token = pickle.load(f)\n",
    "    \n",
    "print('Latest access token read from file:')\n",
    "access_token"
   ]
  },
  {
   "cell_type": "code",
   "execution_count": 18,
   "metadata": {},
   "outputs": [
    {
     "name": "stdout",
     "output_type": "stream",
     "text": [
      "Token still valid, expires at Mon, 07 Dec 2020 18:54:43 Central Standard Time\n"
     ]
    }
   ],
   "source": [
    "if time.time() > access_token['expires_at']:\n",
    "    print('Token has expired, will refresh')\n",
    "    refresh_response = client.refresh_access_token(client_id=MY_STRAVA_CLIENT_ID, client_secret=MY_STRAVA_CLIENT_SECRET, refresh_token=access_token['refresh_token'])\n",
    "    access_token = refresh_response\n",
    "    with open('../access_token.pickle', 'wb') as f:\n",
    "        pickle.dump(refresh_response, f)\n",
    "    print('Refreshed token saved to file')\n",
    "    client.access_token = refresh_response['access_token']\n",
    "    client.refresh_token = refresh_response['refresh_token']\n",
    "    client.token_expires_at = refresh_response['expires_at']\n",
    "        \n",
    "else:\n",
    "    print('Token still valid, expires at {}'\n",
    "          .format(time.strftime(\"%a, %d %b %Y %H:%M:%S %Z\", time.localtime(access_token['expires_at']))))\n",
    "    client.access_token = access_token['access_token']\n",
    "    client.refresh_token = access_token['refresh_token']\n",
    "    client.token_expires_at = access_token['expires_at']"
   ]
  },
  {
   "cell_type": "code",
   "execution_count": 19,
   "metadata": {},
   "outputs": [
    {
     "name": "stdout",
     "output_type": "stream",
     "text": [
      "Athlete's name is Kevin Johnson, based in None, None\n"
     ]
    }
   ],
   "source": [
    "athlete = client.get_athlete()\n",
    "print(\"Athlete's name is {} {}, based in {}, {}\"\n",
    "      .format(athlete.firstname, athlete.lastname, athlete.city, athlete.country))"
   ]
  },
  {
   "cell_type": "code",
   "execution_count": 20,
   "metadata": {},
   "outputs": [
    {
     "data": {
      "text/plain": [
       "[<Activity id=4442408424 name='Afternoon Run' resource_state=2>,\n",
       " <Activity id=4442408475 name='Afternoon Activity' resource_state=2>,\n",
       " <Activity id=4442408418 name='Lunch Activity' resource_state=2>,\n",
       " <Activity id=4442408391 name='Afternoon Run' resource_state=2>,\n",
       " <Activity id=4442408413 name='Afternoon Activity' resource_state=2>,\n",
       " <Activity id=4442408412 name='Afternoon Activity' resource_state=2>,\n",
       " <Activity id=4442408376 name='Afternoon Run' resource_state=2>,\n",
       " <Activity id=4442408568 name='Afternoon Run' resource_state=2>,\n",
       " <Activity id=4442408524 name='Night Run' resource_state=2>,\n",
       " <Activity id=4442408570 name='Afternoon Run' resource_state=2>]"
      ]
     },
     "execution_count": 20,
     "metadata": {},
     "output_type": "execute_result"
    }
   ],
   "source": [
    "activities = client.get_activities(limit=1000)\n",
    "list(activities)[0:10]"
   ]
  },
  {
   "cell_type": "code",
   "execution_count": 21,
   "metadata": {},
   "outputs": [],
   "source": [
    "my_cols =['name',\n",
    "          'start_date_local',\n",
    "          'type',\n",
    "          'distance',\n",
    "          'moving_time',\n",
    "          'elapsed_time',\n",
    "          'total_elevation_gain',\n",
    "          'elev_high',\n",
    "          'elev_low',\n",
    "          'average_speed',\n",
    "          'max_speed',\n",
    "          'average_heartrate',\n",
    "          'max_heartrate',\n",
    "          'start_latitude',\n",
    "          'start_longitude']"
   ]
  },
  {
   "cell_type": "code",
   "execution_count": 22,
   "metadata": {},
   "outputs": [],
   "source": [
    "data = []\n",
    "for activity in activities:\n",
    "    my_dict = activity.to_dict()\n",
    "    data.append([activity.id]+[my_dict.get(x) for x in my_cols])\n",
    "    \n",
    "# Add id to the beginning of the columns, used when selecting a specific activity\n",
    "my_cols.insert(0,'id')"
   ]
  },
  {
   "cell_type": "code",
   "execution_count": 25,
   "metadata": {},
   "outputs": [
    {
     "data": {
      "text/html": [
       "<div>\n",
       "<style scoped>\n",
       "    .dataframe tbody tr th:only-of-type {\n",
       "        vertical-align: middle;\n",
       "    }\n",
       "\n",
       "    .dataframe tbody tr th {\n",
       "        vertical-align: top;\n",
       "    }\n",
       "\n",
       "    .dataframe thead th {\n",
       "        text-align: right;\n",
       "    }\n",
       "</style>\n",
       "<table border=\"1\" class=\"dataframe\">\n",
       "  <thead>\n",
       "    <tr style=\"text-align: right;\">\n",
       "      <th></th>\n",
       "      <th>id</th>\n",
       "      <th>name</th>\n",
       "      <th>start_date_local</th>\n",
       "      <th>type</th>\n",
       "      <th>distance</th>\n",
       "      <th>moving_time</th>\n",
       "      <th>elapsed_time</th>\n",
       "      <th>total_elevation_gain</th>\n",
       "      <th>elev_high</th>\n",
       "      <th>elev_low</th>\n",
       "      <th>average_speed</th>\n",
       "      <th>max_speed</th>\n",
       "      <th>average_heartrate</th>\n",
       "      <th>max_heartrate</th>\n",
       "      <th>start_latitude</th>\n",
       "      <th>start_longitude</th>\n",
       "    </tr>\n",
       "  </thead>\n",
       "  <tbody>\n",
       "    <tr>\n",
       "      <th>0</th>\n",
       "      <td>4442408424</td>\n",
       "      <td>Afternoon Run</td>\n",
       "      <td>2020-11-29T15:06:26</td>\n",
       "      <td>Run</td>\n",
       "      <td>8013.5</td>\n",
       "      <td>1:00:02</td>\n",
       "      <td>1:00:02</td>\n",
       "      <td>0.0</td>\n",
       "      <td>NaN</td>\n",
       "      <td>NaN</td>\n",
       "      <td>2.225</td>\n",
       "      <td>3.1</td>\n",
       "      <td>163.0</td>\n",
       "      <td>184</td>\n",
       "      <td>NaN</td>\n",
       "      <td>NaN</td>\n",
       "    </tr>\n",
       "    <tr>\n",
       "      <th>1</th>\n",
       "      <td>4442408475</td>\n",
       "      <td>Afternoon Activity</td>\n",
       "      <td>2020-11-29T13:58:18</td>\n",
       "      <td>Workout</td>\n",
       "      <td>0.0</td>\n",
       "      <td>0:56:31</td>\n",
       "      <td>0:56:31</td>\n",
       "      <td>0.0</td>\n",
       "      <td>NaN</td>\n",
       "      <td>NaN</td>\n",
       "      <td>0.000</td>\n",
       "      <td>0.0</td>\n",
       "      <td>114.3</td>\n",
       "      <td>136</td>\n",
       "      <td>NaN</td>\n",
       "      <td>NaN</td>\n",
       "    </tr>\n",
       "    <tr>\n",
       "      <th>2</th>\n",
       "      <td>4442408418</td>\n",
       "      <td>Lunch Activity</td>\n",
       "      <td>2020-11-26T11:15:27</td>\n",
       "      <td>Workout</td>\n",
       "      <td>2681.6</td>\n",
       "      <td>0:37:01</td>\n",
       "      <td>0:46:02</td>\n",
       "      <td>0.0</td>\n",
       "      <td>196.9</td>\n",
       "      <td>195.0</td>\n",
       "      <td>1.207</td>\n",
       "      <td>2.5</td>\n",
       "      <td>105.5</td>\n",
       "      <td>116</td>\n",
       "      <td>41.820520</td>\n",
       "      <td>-87.876276</td>\n",
       "    </tr>\n",
       "    <tr>\n",
       "      <th>3</th>\n",
       "      <td>4442408391</td>\n",
       "      <td>Afternoon Run</td>\n",
       "      <td>2020-11-25T14:55:09</td>\n",
       "      <td>Run</td>\n",
       "      <td>5674.4</td>\n",
       "      <td>0:33:03</td>\n",
       "      <td>0:33:03</td>\n",
       "      <td>0.0</td>\n",
       "      <td>NaN</td>\n",
       "      <td>NaN</td>\n",
       "      <td>2.862</td>\n",
       "      <td>3.2</td>\n",
       "      <td>155.6</td>\n",
       "      <td>169</td>\n",
       "      <td>NaN</td>\n",
       "      <td>NaN</td>\n",
       "    </tr>\n",
       "    <tr>\n",
       "      <th>4</th>\n",
       "      <td>4442408413</td>\n",
       "      <td>Afternoon Activity</td>\n",
       "      <td>2020-11-25T13:24:28</td>\n",
       "      <td>Workout</td>\n",
       "      <td>338.2</td>\n",
       "      <td>0:07:43</td>\n",
       "      <td>0:24:30</td>\n",
       "      <td>0.0</td>\n",
       "      <td>180.0</td>\n",
       "      <td>179.9</td>\n",
       "      <td>0.730</td>\n",
       "      <td>3.6</td>\n",
       "      <td>114.2</td>\n",
       "      <td>150</td>\n",
       "      <td>41.949457</td>\n",
       "      <td>-87.646189</td>\n",
       "    </tr>\n",
       "  </tbody>\n",
       "</table>\n",
       "</div>"
      ],
      "text/plain": [
       "           id                name     start_date_local     type  distance  \\\n",
       "0  4442408424       Afternoon Run  2020-11-29T15:06:26      Run    8013.5   \n",
       "1  4442408475  Afternoon Activity  2020-11-29T13:58:18  Workout       0.0   \n",
       "2  4442408418      Lunch Activity  2020-11-26T11:15:27  Workout    2681.6   \n",
       "3  4442408391       Afternoon Run  2020-11-25T14:55:09      Run    5674.4   \n",
       "4  4442408413  Afternoon Activity  2020-11-25T13:24:28  Workout     338.2   \n",
       "\n",
       "  moving_time elapsed_time  total_elevation_gain  elev_high  elev_low  \\\n",
       "0     1:00:02      1:00:02                   0.0        NaN       NaN   \n",
       "1     0:56:31      0:56:31                   0.0        NaN       NaN   \n",
       "2     0:37:01      0:46:02                   0.0      196.9     195.0   \n",
       "3     0:33:03      0:33:03                   0.0        NaN       NaN   \n",
       "4     0:07:43      0:24:30                   0.0      180.0     179.9   \n",
       "\n",
       "   average_speed  max_speed  average_heartrate  max_heartrate  start_latitude  \\\n",
       "0          2.225        3.1              163.0            184             NaN   \n",
       "1          0.000        0.0              114.3            136             NaN   \n",
       "2          1.207        2.5              105.5            116       41.820520   \n",
       "3          2.862        3.2              155.6            169             NaN   \n",
       "4          0.730        3.6              114.2            150       41.949457   \n",
       "\n",
       "   start_longitude  \n",
       "0              NaN  \n",
       "1              NaN  \n",
       "2       -87.876276  \n",
       "3              NaN  \n",
       "4       -87.646189  "
      ]
     },
     "execution_count": 25,
     "metadata": {},
     "output_type": "execute_result"
    }
   ],
   "source": [
    "df = pd.DataFrame(data, columns=my_cols)\n",
    "df.head()"
   ]
  },
  {
   "cell_type": "code",
   "execution_count": null,
   "metadata": {},
   "outputs": [],
   "source": []
  }
 ],
 "metadata": {
  "kernelspec": {
   "display_name": "Python 3",
   "language": "python",
   "name": "python3"
  },
  "language_info": {
   "codemirror_mode": {
    "name": "ipython",
    "version": 3
   },
   "file_extension": ".py",
   "mimetype": "text/x-python",
   "name": "python",
   "nbconvert_exporter": "python",
   "pygments_lexer": "ipython3",
   "version": "3.8.3"
  }
 },
 "nbformat": 4,
 "nbformat_minor": 4
}
