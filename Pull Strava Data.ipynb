{
 "cells": [
  {
   "cell_type": "code",
   "execution_count": null,
   "metadata": {},
   "outputs": [],
   "source": [
    "import pandas as pd\n",
    "activities = client.get_activities(limit=1000)\n",
    "my_cols =['name',\n",
    "          'start_date_local',\n",
    "          'type',\n",
    "          'distance',\n",
    "          'moving_time',\n",
    "          'elapsed_time',\n",
    "          'total_elevation_gain',\n",
    "          'elev_high',\n",
    "          'elev_low',\n",
    "          'average_speed',\n",
    "          'max_speed',\n",
    "          'average_heartrate',\n",
    "          'max_heartrate',\n",
    "          'start_latitude',\n",
    "          'start_longitude']\n",
    "data = []\n",
    "for activity in activities:\n",
    "    my_dict = activity.to_dict()\n",
    "    data.append([activity.id]+[my_dict.get(x) for x in my_cols])\n",
    "df = pd.DataFrame(data, columns=my_cols)\n",
    "df.head()"
   ]
  }
 ],
 "metadata": {
  "kernelspec": {
   "display_name": "Python 3",
   "language": "python",
   "name": "python3"
  },
  "language_info": {
   "codemirror_mode": {
    "name": "ipython",
    "version": 3
   },
   "file_extension": ".py",
   "mimetype": "text/x-python",
   "name": "python",
   "nbconvert_exporter": "python",
   "pygments_lexer": "ipython3",
   "version": "3.8.3"
  }
 },
 "nbformat": 4,
 "nbformat_minor": 4
}
